{
 "cells": [
  {
   "attachments": {},
   "cell_type": "markdown",
   "metadata": {},
   "source": [
    "# Syogle Foto Library with OneDrive Camera Roll\n",
    "\n",
    "Status:\n",
    "\n",
    "Google Fotos contains the master list of what pictures on my phone I want to keep, which to delete and how to sort them into folders. However - they are only stored in reduced resolution.\n",
    "The OneDrive App syncs all pictures I take in full quality into OneDrive, but the webapp is rubbish for sorting pictures into folders and delete what I don't want to keep.\n",
    "\n",
    "Goal:\n",
    "\n",
    "Get the metadata of the picture sorting from Google Fotos and use that to clean-up OneDrive.\n",
    "\n",
    "* folders should live at the top-level `Bilder/<folder-name>`\n",
    "* pictures from the camera roll in `Bilder/Eigene Aufnahme` should be *copied* to the top-level folders - if a picture is part of a *folder*  as well as the overall *Fotos* it should be kept in both (ignoring the doubling of storage)\n",
    "* in the end all fotos to be kept should be moved and copied out of `Eigene Aufnahme` so that folder in the end can be cleaned out as it only contains the pictures that should not be kept\n",
    "    * open question: What should the folder name be for pictures to keep that are just part of Google Fotos but not a dedicated sub-folder?"
   ]
  },
  {
   "attachments": {},
   "cell_type": "markdown",
   "metadata": {},
   "source": [
    "Code Logic:\n",
    "* make a list of pictures and locations in `Eigene Aufnahmen` --> source\n",
    "* use Google Fotos Metadata to create a list of folder/picture mappings --> target\n",
    "* copy all files from source(s) to target(s)\n",
    "    * this will be less efficient than a move but is safer than moving directly\n",
    "    * this will also take care when a picture needs to be duplicated because it is part of a folder "
   ]
  },
  {
   "cell_type": "code",
   "execution_count": 2,
   "metadata": {},
   "outputs": [],
   "source": [
    "import os\n",
    "import pandas as pd\n"
   ]
  },
  {
   "cell_type": "code",
   "execution_count": null,
   "metadata": {},
   "outputs": [],
   "source": []
  }
 ],
 "metadata": {
  "kernelspec": {
   "display_name": "datasci",
   "language": "python",
   "name": "python3"
  },
  "language_info": {
   "codemirror_mode": {
    "name": "ipython",
    "version": 3
   },
   "file_extension": ".py",
   "mimetype": "text/x-python",
   "name": "python",
   "nbconvert_exporter": "python",
   "pygments_lexer": "ipython3",
   "version": "3.9.12"
  },
  "orig_nbformat": 4,
  "vscode": {
   "interpreter": {
    "hash": "882e6a81bbb7585ed9b3be1d56e92bf5c7a6d194d33ced396749e57d2a577401"
   }
  }
 },
 "nbformat": 4,
 "nbformat_minor": 2
}
