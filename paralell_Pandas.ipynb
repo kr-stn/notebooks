{
 "cells": [
  {
   "cell_type": "markdown",
   "metadata": {},
   "source": [
    "# Paralell Pandas\n",
    "\n",
    "Increase the speed of the calculation of time series features by chunking the dataframe and using paralell processing with Pythons `multiprocessing` library."
   ]
  },
  {
   "cell_type": "code",
   "execution_count": 1,
   "metadata": {},
   "outputs": [],
   "source": [
    "import numpy as np\n",
    "import pandas as pd\n"
   ]
  },
  {
   "cell_type": "markdown",
   "metadata": {},
   "source": [
    "The real dataset I am working on is a set of daily satellite measurements (from Copernicus Sentinel-1) ranging from ca. -25 to 0."
   ]
  },
  {
   "cell_type": "code",
   "execution_count": 2,
   "metadata": {},
   "outputs": [],
   "source": [
    "ts_df = pd.DataFrame(np.random.random(size=(365, 3000)))\n"
   ]
  },
  {
   "cell_type": "code",
   "execution_count": 3,
   "metadata": {},
   "outputs": [
    {
     "data": {
      "text/html": [
       "<div>\n",
       "<style scoped>\n",
       "    .dataframe tbody tr th:only-of-type {\n",
       "        vertical-align: middle;\n",
       "    }\n",
       "\n",
       "    .dataframe tbody tr th {\n",
       "        vertical-align: top;\n",
       "    }\n",
       "\n",
       "    .dataframe thead th {\n",
       "        text-align: right;\n",
       "    }\n",
       "</style>\n",
       "<table border=\"1\" class=\"dataframe\">\n",
       "  <thead>\n",
       "    <tr style=\"text-align: right;\">\n",
       "      <th></th>\n",
       "      <th>0</th>\n",
       "      <th>1</th>\n",
       "      <th>2</th>\n",
       "      <th>3</th>\n",
       "      <th>4</th>\n",
       "      <th>5</th>\n",
       "      <th>6</th>\n",
       "      <th>7</th>\n",
       "      <th>8</th>\n",
       "      <th>9</th>\n",
       "      <th>...</th>\n",
       "      <th>2990</th>\n",
       "      <th>2991</th>\n",
       "      <th>2992</th>\n",
       "      <th>2993</th>\n",
       "      <th>2994</th>\n",
       "      <th>2995</th>\n",
       "      <th>2996</th>\n",
       "      <th>2997</th>\n",
       "      <th>2998</th>\n",
       "      <th>2999</th>\n",
       "    </tr>\n",
       "  </thead>\n",
       "  <tbody>\n",
       "    <tr>\n",
       "      <th>0</th>\n",
       "      <td>0.797705</td>\n",
       "      <td>0.192938</td>\n",
       "      <td>0.598928</td>\n",
       "      <td>0.049489</td>\n",
       "      <td>0.426070</td>\n",
       "      <td>0.993818</td>\n",
       "      <td>0.234540</td>\n",
       "      <td>0.487642</td>\n",
       "      <td>0.280514</td>\n",
       "      <td>0.270824</td>\n",
       "      <td>...</td>\n",
       "      <td>0.625908</td>\n",
       "      <td>0.274562</td>\n",
       "      <td>0.572727</td>\n",
       "      <td>0.483228</td>\n",
       "      <td>0.947370</td>\n",
       "      <td>0.470938</td>\n",
       "      <td>0.034136</td>\n",
       "      <td>0.862813</td>\n",
       "      <td>0.624245</td>\n",
       "      <td>0.225501</td>\n",
       "    </tr>\n",
       "    <tr>\n",
       "      <th>1</th>\n",
       "      <td>0.962685</td>\n",
       "      <td>0.329267</td>\n",
       "      <td>0.430161</td>\n",
       "      <td>0.077733</td>\n",
       "      <td>0.789927</td>\n",
       "      <td>0.648647</td>\n",
       "      <td>0.688537</td>\n",
       "      <td>0.203000</td>\n",
       "      <td>0.063319</td>\n",
       "      <td>0.739370</td>\n",
       "      <td>...</td>\n",
       "      <td>0.954632</td>\n",
       "      <td>0.434089</td>\n",
       "      <td>0.272374</td>\n",
       "      <td>0.136659</td>\n",
       "      <td>0.516720</td>\n",
       "      <td>0.813053</td>\n",
       "      <td>0.876236</td>\n",
       "      <td>0.732918</td>\n",
       "      <td>0.179523</td>\n",
       "      <td>0.974357</td>\n",
       "    </tr>\n",
       "    <tr>\n",
       "      <th>2</th>\n",
       "      <td>0.946652</td>\n",
       "      <td>0.008486</td>\n",
       "      <td>0.637859</td>\n",
       "      <td>0.902016</td>\n",
       "      <td>0.098176</td>\n",
       "      <td>0.415215</td>\n",
       "      <td>0.802620</td>\n",
       "      <td>0.940340</td>\n",
       "      <td>0.028065</td>\n",
       "      <td>0.330874</td>\n",
       "      <td>...</td>\n",
       "      <td>0.267486</td>\n",
       "      <td>0.882917</td>\n",
       "      <td>0.213091</td>\n",
       "      <td>0.100764</td>\n",
       "      <td>0.113346</td>\n",
       "      <td>0.797444</td>\n",
       "      <td>0.501101</td>\n",
       "      <td>0.542769</td>\n",
       "      <td>0.856774</td>\n",
       "      <td>0.200036</td>\n",
       "    </tr>\n",
       "    <tr>\n",
       "      <th>3</th>\n",
       "      <td>0.160855</td>\n",
       "      <td>0.028498</td>\n",
       "      <td>0.239031</td>\n",
       "      <td>0.904416</td>\n",
       "      <td>0.422833</td>\n",
       "      <td>0.543515</td>\n",
       "      <td>0.111439</td>\n",
       "      <td>0.469557</td>\n",
       "      <td>0.054797</td>\n",
       "      <td>0.447173</td>\n",
       "      <td>...</td>\n",
       "      <td>0.431720</td>\n",
       "      <td>0.430018</td>\n",
       "      <td>0.578983</td>\n",
       "      <td>0.237469</td>\n",
       "      <td>0.769015</td>\n",
       "      <td>0.280197</td>\n",
       "      <td>0.176195</td>\n",
       "      <td>0.191841</td>\n",
       "      <td>0.113176</td>\n",
       "      <td>0.545080</td>\n",
       "    </tr>\n",
       "    <tr>\n",
       "      <th>4</th>\n",
       "      <td>0.986059</td>\n",
       "      <td>0.843225</td>\n",
       "      <td>0.527381</td>\n",
       "      <td>0.538054</td>\n",
       "      <td>0.798150</td>\n",
       "      <td>0.872702</td>\n",
       "      <td>0.775131</td>\n",
       "      <td>0.926873</td>\n",
       "      <td>0.899077</td>\n",
       "      <td>0.940833</td>\n",
       "      <td>...</td>\n",
       "      <td>0.550767</td>\n",
       "      <td>0.497773</td>\n",
       "      <td>0.216634</td>\n",
       "      <td>0.261508</td>\n",
       "      <td>0.964396</td>\n",
       "      <td>0.512830</td>\n",
       "      <td>0.652238</td>\n",
       "      <td>0.166521</td>\n",
       "      <td>0.838778</td>\n",
       "      <td>0.977973</td>\n",
       "    </tr>\n",
       "  </tbody>\n",
       "</table>\n",
       "<p>5 rows × 3000 columns</p>\n",
       "</div>"
      ],
      "text/plain": [
       "       0         1         2         3         4         5         6     \\\n",
       "0  0.797705  0.192938  0.598928  0.049489  0.426070  0.993818  0.234540   \n",
       "1  0.962685  0.329267  0.430161  0.077733  0.789927  0.648647  0.688537   \n",
       "2  0.946652  0.008486  0.637859  0.902016  0.098176  0.415215  0.802620   \n",
       "3  0.160855  0.028498  0.239031  0.904416  0.422833  0.543515  0.111439   \n",
       "4  0.986059  0.843225  0.527381  0.538054  0.798150  0.872702  0.775131   \n",
       "\n",
       "       7         8         9       ...         2990      2991      2992  \\\n",
       "0  0.487642  0.280514  0.270824    ...     0.625908  0.274562  0.572727   \n",
       "1  0.203000  0.063319  0.739370    ...     0.954632  0.434089  0.272374   \n",
       "2  0.940340  0.028065  0.330874    ...     0.267486  0.882917  0.213091   \n",
       "3  0.469557  0.054797  0.447173    ...     0.431720  0.430018  0.578983   \n",
       "4  0.926873  0.899077  0.940833    ...     0.550767  0.497773  0.216634   \n",
       "\n",
       "       2993      2994      2995      2996      2997      2998      2999  \n",
       "0  0.483228  0.947370  0.470938  0.034136  0.862813  0.624245  0.225501  \n",
       "1  0.136659  0.516720  0.813053  0.876236  0.732918  0.179523  0.974357  \n",
       "2  0.100764  0.113346  0.797444  0.501101  0.542769  0.856774  0.200036  \n",
       "3  0.237469  0.769015  0.280197  0.176195  0.191841  0.113176  0.545080  \n",
       "4  0.261508  0.964396  0.512830  0.652238  0.166521  0.838778  0.977973  \n",
       "\n",
       "[5 rows x 3000 columns]"
      ]
     },
     "execution_count": 3,
     "metadata": {},
     "output_type": "execute_result"
    }
   ],
   "source": [
    "ts_df.head()\n"
   ]
  },
  {
   "cell_type": "markdown",
   "metadata": {},
   "source": [
    "I want to calculate a number of temporal features to be used as input for a regression analysis. These will be calculated for each column. The features themselves are straightforward multi-temporal features such as percentiles, using a lagged time series and some based on Fourier transformation."
   ]
  },
  {
   "cell_type": "code",
   "execution_count": 4,
   "metadata": {},
   "outputs": [],
   "source": [
    "def feature_calculation(df):\n",
    "    # create DataFrame and populate with stdDev\n",
    "    result = pd.DataFrame(df.std(axis=0))\n",
    "    result.columns = [\"stdDev\"]\n",
    "\n",
    "    # mean\n",
    "    result[\"mean\"] = df.mean(axis=0)\n",
    "\n",
    "    # percentiles\n",
    "    for i in [0.1, 0.25, 0.5, 0.75, 0.9]:\n",
    "        result[str(int(i*100)) + \"perc\"] = df.quantile(q=i)\n",
    "\n",
    "    # percentile differences / amplitudes\n",
    "    result[\"diff_90perc10perc\"] = (result[\"10perc\"] - result[\"90perc\"])\n",
    "    result[\"diff_75perc25perc\"] = (result[\"75perc\"] - result[\"25perc\"])\n",
    "\n",
    "    # percentiles of lagged time-series\n",
    "    for lag in [10, 20, 30, 40, 50]:\n",
    "        for i in [0.1, 0.25, 0.5, 0.75, 0.9]:\n",
    "            result[\"lag\" + str(lag) + \"_\" + str(int(i*100)) + \"perc\"] = (df - df.shift(lag)).quantile(q=i)\n",
    "\n",
    "    # fft\n",
    "    df_fft = np.fft.fft(df, axis=0)  # fourier transform only along time axis\n",
    "    result[\"fft_angle_mean\"] = np.mean(np.angle(df_fft, deg=True), axis=0)\n",
    "    result[\"fft_angle_min\"] = np.min(np.angle(df_fft, deg=True), axis=0)\n",
    "    result[\"fft_angle_max\"] = np.max(np.angle(df_fft, deg=True), axis=0)\n",
    "\n",
    "    return result\n"
   ]
  },
  {
   "cell_type": "markdown",
   "metadata": {},
   "source": [
    "Testing how long the calculation takes for a small test dataset."
   ]
  },
  {
   "cell_type": "code",
   "execution_count": 13,
   "metadata": {},
   "outputs": [
    {
     "name": "stdout",
     "output_type": "stream",
     "text": [
      "11.4 s ± 86.3 ms per loop (mean ± std. dev. of 3 runs, 3 loops each)\n"
     ]
    }
   ],
   "source": [
    "%%timeit -n 3 -r 3\n",
    "ts_features = feature_calculation(ts_df)\n"
   ]
  },
  {
   "cell_type": "markdown",
   "metadata": {},
   "source": [
    "The calculation takes quite some time and increases linear with the number of columns. My real dataset has more than 700k columns instead of the 3000 we use here.\n",
    "\n",
    "During the calculation only one core is used. As the calculation is performed for each column we can split the dataframe into a number of subsets and utulize multiple cores to calculate the features - making this an embarassingly paralell problem."
   ]
  },
  {
   "cell_type": "code",
   "execution_count": 6,
   "metadata": {},
   "outputs": [],
   "source": [
    "from multiprocessing import Pool\n",
    "\n",
    "def paralell_feature_calculation(df, partitions=10, processes=4):\n",
    "    # calculate features in paralell by splitting the dataframe into partitions and using paralell processes\n",
    "\n",
    "    pool = Pool(processes)\n",
    "\n",
    "    df_split = np.array_split(df, partitions, axis=1)  # split dataframe into partitions column wise\n",
    "\n",
    "    df = pd.concat(pool.map(feature_calculation, df_split))\n",
    "    pool.close()\n",
    "    pool.join()\n",
    "\n",
    "    return df\n"
   ]
  },
  {
   "cell_type": "code",
   "execution_count": 18,
   "metadata": {},
   "outputs": [
    {
     "name": "stdout",
     "output_type": "stream",
     "text": [
      "2.06 s ± 15.4 ms per loop (mean ± std. dev. of 3 runs, 3 loops each)\n"
     ]
    }
   ],
   "source": [
    "%%timeit -n 3 -r 3\n",
    "ts_features_paralell = paralell_feature_calculation(ts_df, partitions=14, processes=7)\n"
   ]
  },
  {
   "cell_type": "markdown",
   "metadata": {},
   "source": [
    "Compare the two results to make sure we get identical results using both feature calculation functions."
   ]
  },
  {
   "cell_type": "code",
   "execution_count": 12,
   "metadata": {},
   "outputs": [
    {
     "data": {
      "text/plain": [
       "True"
      ]
     },
     "execution_count": 12,
     "metadata": {},
     "output_type": "execute_result"
    }
   ],
   "source": [
    "ts_features.equals(ts_features_paralell)\n"
   ]
  },
  {
   "cell_type": "markdown",
   "metadata": {},
   "source": [
    "Using a simple paralellization routine the time series features are now calculated about 5 times faster - a significant time saving when working with large dataframes."
   ]
  }
 ],
 "metadata": {
  "kernelspec": {
   "display_name": "Python [conda env:s1_rice]",
   "language": "python",
   "name": "conda-env-s1_rice-py"
  },
  "language_info": {
   "codemirror_mode": {
    "name": "ipython",
    "version": 3
   },
   "file_extension": ".py",
   "mimetype": "text/x-python",
   "name": "python",
   "nbconvert_exporter": "python",
   "pygments_lexer": "ipython3",
   "version": "3.6.3"
  }
 },
 "nbformat": 4,
 "nbformat_minor": 2
}
