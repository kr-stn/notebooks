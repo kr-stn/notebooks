{
 "cells": [
  {
   "cell_type": "markdown",
   "metadata": {},
   "source": [
    "# WORK IN PROGRESS\n",
    "\n",
    "currently just notes and goals"
   ]
  },
  {
   "cell_type": "markdown",
   "metadata": {},
   "source": [
    "# Strava KOM Hunting\n",
    "\n",
    "The goal of this notebook is to create a small, interactive dashboard that helps find \"easy\" top beat Strava KOMs. Motivation is twofold: 1) If you are not strong you better be smart, 2) Get to know Streamlit. Stretch goal: Estimate required Watts from segment info and sort by \"Power to beat\", then compare to my own power curve and show segments that I can beat.\n",
    "\n",
    "Components:\n",
    "- [stravalib](https://github.com/stravalib/stravalib) for API access to Strava\n",
    "- `Parquet` for storing the API responses as the Strava API is limited in calls per day\n",
    "- `DuckDB` as analytics engine\n",
    "- `streamlit` to build the dashboard\n",
    "\n",
    "Preamble: Most of the technology used is more complex than necessary for the size of data to process. The point is to explore these technologies so I can use them when they are necessary. Even building a database of all segments in a 100km radius around Munich I assume the file size to be in the low megabytes."
   ]
  },
  {
   "cell_type": "code",
   "execution_count": 3,
   "metadata": {},
   "outputs": [
    {
     "name": "stdout",
     "output_type": "stream",
     "text": [
      "3.11.5 (main, Sep 11 2023, 13:54:46) [GCC 11.2.0]\n"
     ]
    }
   ],
   "source": [
    "# Conda environment ds\n",
    "import sys\n",
    "print(sys.version)\n"
   ]
  },
  {
   "cell_type": "markdown",
   "metadata": {},
   "source": [
    "## 1. Connect to Strava API and get data.\n",
    "\n",
    "- register Strava app to get API token\n",
    "    - https://www.strava.com/settings/api with localhost as callback domain\n",
    "- use refresh token after auth token expires (6h)\n",
    "- get segment IDs by map are or radius around geographic location\n",
    "- get segment info from IDs\n",
    "- use bulk endpoints where possible to keep the API calls to a minimum\n",
    "\n",
    "Tutorials and notes:\n",
    "- https://medium.com/analytics-vidhya/accessing-user-data-via-the-strava-api-using-stravalib-d5bee7fdde17"
   ]
  },
  {
   "cell_type": "markdown",
   "metadata": {},
   "source": [
    "Register Strava App and get the required secrets and tokens. This only needs to be done once. Secrets are stored in the non-tracked `config.py`."
   ]
  },
  {
   "cell_type": "code",
   "execution_count": 2,
   "metadata": {},
   "outputs": [
    {
     "name": "stdout",
     "output_type": "stream",
     "text": [
      "https://www.strava.com/oauth/authorize?client_id=115409&redirect_uri=http%3A%2F%2Flocalhost%3A8282%2Fauthorized&approval_prompt=auto&scope=read_all%2Cprofile%3Aread_all%2Cactivity%3Aread_all&response_type=code\n"
     ]
    }
   ],
   "source": [
    "from config import STRAVA_CLIENT_ID, STRAVA_CLIENT_SECRET\n",
    "from stravalib.client import Client\n",
    "\n",
    "client = Client()\n",
    "authorize_url = client.authorization_url(client_id=STRAVA_CLIENT_ID, scope=['read_all', 'profile:read_all', 'activity:read_all'], redirect_uri=\"http://localhost:8282/authorized\")\n",
    "\n",
    "print(authorize_url) #extract response from code= parameter and add to config.py\n"
   ]
  },
  {
   "cell_type": "markdown",
   "metadata": {},
   "source": [
    "Exchange code for short-lived access token. Needs to be run everytime the token expires - currently 6h. Alternatively the `access_token` and `refresh_token` could be taken directly from the Strava API website https://www.strava.com/settings/api."
   ]
  },
  {
   "cell_type": "code",
   "execution_count": 1,
   "metadata": {},
   "outputs": [],
   "source": [
    "from config import STRAVA_CODE, STRAVA_CLIENT_ID, STRAVA_CLIENT_SECRET\n",
    "from stravalib.client import Client\n",
    "\n",
    "# register client\n",
    "client = Client()\n",
    "\n",
    "# get tokens and add to client\n",
    "token_response = client.exchange_code_for_token(\n",
    "    client_id=STRAVA_CLIENT_ID, client_secret=STRAVA_CLIENT_SECRET, code=STRAVA_CODE\n",
    ")\n",
    "client.access_token = token_response[\"access_token\"]\n",
    "client.refresh_token = token_response[\"refresh_token\"]\n",
    "client.token_expires_at = token_response[\"expires_at\"]\n"
   ]
  },
  {
   "cell_type": "markdown",
   "metadata": {},
   "source": [
    "If the token has expired get a new one using the refresh token."
   ]
  },
  {
   "cell_type": "code",
   "execution_count": null,
   "metadata": {},
   "outputs": [],
   "source": [
    "if time.time() > client.token_expires_at:\n",
    "    refresh_response = client.refresh_access_token(\n",
    "        client_id=STRAVA_CLIENT_ID, client_secret=STRAVA_CLIENT_SECRET, refresh_token=client.refresh_token\n",
    "    )\n",
    "    client.access_token = refresh_response[\"access_token\"]\n",
    "    client.refresh_token = refresh_response[\"refresh_token\"]\n",
    "    client.token_expires_at = refresh_response[\"expires_at\"]\n"
   ]
  }
 ],
 "metadata": {
  "kernelspec": {
   "display_name": "ds",
   "language": "python",
   "name": "python3"
  },
  "language_info": {
   "codemirror_mode": {
    "name": "ipython",
    "version": 3
   },
   "file_extension": ".py",
   "mimetype": "text/x-python",
   "name": "python",
   "nbconvert_exporter": "python",
   "pygments_lexer": "ipython3",
   "version": "3.11.5"
  }
 },
 "nbformat": 4,
 "nbformat_minor": 2
}
